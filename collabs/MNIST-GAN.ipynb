{
 "cells": [
  {
   "cell_type": "markdown",
   "metadata": {},
   "source": [
    "# Import MNIST data set"
   ]
  },
  {
   "cell_type": "code",
   "execution_count": 108,
   "metadata": {},
   "outputs": [
    {
     "name": "stdout",
     "output_type": "stream",
     "text": [
      "Folders exist. Collecting datasets...\n",
      "datasets fetched.\n"
     ]
    }
   ],
   "source": [
    "import tensorflow as tf\n",
    "import pickle\n",
    "import os\n",
    "from datetime import datetime\n",
    "\n",
    "mnist = tf.keras.datasets.mnist;\n",
    "\n",
    "DATASET_PATH = os.path.join(\"datasets\", \"mnist\");\n",
    "ROOT_LOG_DIR = 'tf_logs'\n",
    "\n",
    "def load_dataset(dataset_path=DATASET_PATH):\n",
    "    if not os.path.isdir(dataset_path):\n",
    "        os.makedirs(dataset_path)\n",
    "        print('Creating folders....')\n",
    "        (x_train, y_train), (x_test, y_test) = mnist.load_data()\n",
    "        with open(os.path.join(dataset_path,'x_train.pickle'), 'wb') as handle:\n",
    "            pickle.dump(x_train, handle, protocol=pickle.HIGHEST_PROTOCOL)\n",
    "        with open(os.path.join(dataset_path,'y_train.pickle'), 'wb') as handle:\n",
    "            pickle.dump(y_train, handle, protocol=pickle.HIGHEST_PROTOCOL)\n",
    "        with open(os.path.join(dataset_path,'x_test.pickle'), 'wb') as handle:\n",
    "            pickle.dump(x_test, handle, protocol=pickle.HIGHEST_PROTOCOL)\n",
    "        with open(os.path.join(dataset_path,'y_test.pickle'), 'wb') as handle:\n",
    "            pickle.dump(y_test, handle, protocol=pickle.HIGHEST_PROTOCOL)\n",
    "    else:\n",
    "        print('Folders exist. Collecting datasets...')\n",
    "        with open(os.path.join(dataset_path,'x_train.pickle'), 'rb') as handle:\n",
    "            x_train= pickle.load(handle)\n",
    "        with open(os.path.join(dataset_path,'y_train.pickle'), 'rb') as handle:\n",
    "             y_train= pickle.load(handle)\n",
    "        with open(os.path.join(dataset_path,'x_test.pickle'), 'rb') as handle:\n",
    "             x_test = pickle.load(handle)\n",
    "        with open(os.path.join(dataset_path,'y_test.pickle'), 'rb') as handle:\n",
    "             y_test = pickle.load(handle)\n",
    "    print('datasets fetched.')\n",
    "\n",
    "load_dataset()"
   ]
  },
  {
   "cell_type": "code",
   "execution_count": 168,
   "metadata": {},
   "outputs": [],
   "source": [
    "from tensorflow.keras.layers import Dense, Conv2D, Flatten, LeakyReLU, MaxPooling2D\n",
    "from tensorflow.keras.models import Sequential\n",
    "from tensorflow.keras.activations import sigmoid\n",
    "from tensorflow.keras.utils import to_categorical"
   ]
  },
  {
   "cell_type": "code",
   "execution_count": 192,
   "metadata": {},
   "outputs": [
    {
     "name": "stdout",
     "output_type": "stream",
     "text": [
      "_________________________________________________________________\n",
      "Layer (type)                 Output Shape              Param #   \n",
      "=================================================================\n",
      "conv2d_25 (Conv2D)           (None, 28, 28, 8)         136       \n",
      "_________________________________________________________________\n",
      "max_pooling2d_5 (MaxPooling2 (None, 28, 28, 8)         0         \n",
      "_________________________________________________________________\n",
      "conv2d_26 (Conv2D)           (None, 14, 14, 8)         1032      \n",
      "_________________________________________________________________\n",
      "max_pooling2d_6 (MaxPooling2 (None, 7, 7, 8)           0         \n",
      "_________________________________________________________________\n",
      "flatten_21 (Flatten)         (None, 392)               0         \n",
      "_________________________________________________________________\n",
      "dense_26 (Dense)             (None, 128)               50304     \n",
      "_________________________________________________________________\n",
      "dense_27 (Dense)             (None, 10)                1290      \n",
      "=================================================================\n",
      "Total params: 52,762\n",
      "Trainable params: 52,762\n",
      "Non-trainable params: 0\n",
      "_________________________________________________________________\n"
     ]
    }
   ],
   "source": [
    "num_filter = 8\n",
    "\n",
    "model = Sequential()\n",
    "model.add(\n",
    "        Conv2D(num_filter,\n",
    "                 kernel_size=4,\n",
    "                 strides=(1,1),\n",
    "                 input_shape=[28,28,1],\n",
    "                 activation=LeakyReLU(),\n",
    "                 padding='same',\n",
    "                )\n",
    "         )\n",
    "\n",
    "model.add(MaxPooling2D(pool_size=(2,2), padding='same', strides=(1,1)))\n",
    "model.add(\n",
    "        Conv2D(num_filter,\n",
    "                 kernel_size=4,\n",
    "                 strides=(2,2),\n",
    "                 activation=LeakyReLU(),\n",
    "                 padding='same',\n",
    "                )\n",
    "         )\n",
    "model.add(MaxPooling2D(pool_size=(2,2), padding='valid', strides=(2,2)))\n",
    "model.add(Flatten())\n",
    "model.add(Dense(128, activation='relu'))\n",
    "model.add(Dense(10, activation='softmax'))\n",
    "\n",
    "model.compile(optimizer='adam', loss='categorical_crossentropy', metrics=['acc'])\n",
    "\n",
    "model.summary()"
   ]
  },
  {
   "cell_type": "markdown",
   "metadata": {},
   "source": [
    "## Check input sample shape"
   ]
  },
  {
   "cell_type": "code",
   "execution_count": 193,
   "metadata": {},
   "outputs": [
    {
     "data": {
      "text/plain": [
       "(60000, 28, 28)"
      ]
     },
     "execution_count": 193,
     "metadata": {},
     "output_type": "execute_result"
    }
   ],
   "source": [
    "x_train.shape"
   ]
  },
  {
   "cell_type": "code",
   "execution_count": 194,
   "metadata": {},
   "outputs": [],
   "source": [
    "X = x_train.reshape((60000,28,28,1))"
   ]
  },
  {
   "cell_type": "code",
   "execution_count": 195,
   "metadata": {},
   "outputs": [
    {
     "name": "stdout",
     "output_type": "stream",
     "text": [
      "(array([0., 0., 0., 0., 0., 1., 0., 0., 0., 0.], dtype=float32), 5)\n",
      "(array([1., 0., 0., 0., 0., 0., 0., 0., 0., 0.], dtype=float32), 0)\n",
      "(array([0., 0., 0., 0., 1., 0., 0., 0., 0., 0.], dtype=float32), 4)\n",
      "(array([0., 1., 0., 0., 0., 0., 0., 0., 0., 0.], dtype=float32), 1)\n",
      "(array([0., 0., 0., 0., 0., 0., 0., 0., 0., 1.], dtype=float32), 9)\n",
      "(array([0., 0., 1., 0., 0., 0., 0., 0., 0., 0.], dtype=float32), 2)\n",
      "(array([0., 1., 0., 0., 0., 0., 0., 0., 0., 0.], dtype=float32), 1)\n",
      "(array([0., 0., 0., 1., 0., 0., 0., 0., 0., 0.], dtype=float32), 3)\n",
      "(array([0., 1., 0., 0., 0., 0., 0., 0., 0., 0.], dtype=float32), 1)\n",
      "(array([0., 0., 0., 0., 1., 0., 0., 0., 0., 0.], dtype=float32), 4)\n"
     ]
    }
   ],
   "source": [
    "\n",
    "Y = to_categorical(\n",
    "    y_train,\n",
    "    num_classes=10\n",
    ")\n",
    "map_test = [val for val in zip(Y[0:10],y_train[0:10])]\n",
    "for val in map_test:\n",
    "    print(val)\n"
   ]
  },
  {
   "cell_type": "code",
   "execution_count": 196,
   "metadata": {},
   "outputs": [],
   "source": [
    "now = datetime.utcnow().strftime('%Y%m%d%H%M%S')\n",
    "logdir = \"{}/run-{}\".format(ROOT_LOG_DIR, now)"
   ]
  },
  {
   "cell_type": "code",
   "execution_count": 197,
   "metadata": {},
   "outputs": [
    {
     "name": "stdout",
     "output_type": "stream",
     "text": [
      "Epoch 1/10\n",
      "60000/60000 [==============================] - 25s 421us/step - loss: 0.9639 - acc: 0.9058\n",
      "Epoch 2/10\n",
      "60000/60000 [==============================] - 25s 408us/step - loss: 0.0790 - acc: 0.9775\n",
      "Epoch 3/10\n",
      "60000/60000 [==============================] - 24s 407us/step - loss: 0.0621 - acc: 0.9816\n",
      "Epoch 4/10\n",
      "60000/60000 [==============================] - 25s 419us/step - loss: 0.0566 - acc: 0.9836\n",
      "Epoch 5/10\n",
      "60000/60000 [==============================] - 25s 417us/step - loss: 0.0467 - acc: 0.9865\n",
      "Epoch 6/10\n",
      "60000/60000 [==============================] - 25s 410us/step - loss: 0.0461 - acc: 0.9867\n",
      "Epoch 7/10\n",
      "60000/60000 [==============================] - 24s 408us/step - loss: 0.0394 - acc: 0.9885\n",
      "Epoch 8/10\n",
      "60000/60000 [==============================] - 25s 412us/step - loss: 0.0375 - acc: 0.9896\n",
      "Epoch 9/10\n",
      "60000/60000 [==============================] - 25s 410us/step - loss: 0.0379 - acc: 0.9901\n",
      "Epoch 10/10\n",
      "60000/60000 [==============================] - 25s 412us/step - loss: 0.0352 - acc: 0.9908\n"
     ]
    },
    {
     "data": {
      "text/plain": [
       "<tensorflow.python.keras.callbacks.History at 0x137280208>"
      ]
     },
     "execution_count": 197,
     "metadata": {},
     "output_type": "execute_result"
    }
   ],
   "source": [
    "model.fit(X, Y, epochs=10, batch_size=32)"
   ]
  },
  {
   "cell_type": "code",
   "execution_count": 198,
   "metadata": {},
   "outputs": [],
   "source": [
    "from sklearn.metrics import accuracy_score\n",
    "X_TEST = x_test.reshape((10000,28,28,1))\n",
    "y_pred = model.predict(X_TEST)"
   ]
  },
  {
   "cell_type": "code",
   "execution_count": 199,
   "metadata": {},
   "outputs": [
    {
     "data": {
      "text/plain": [
       "array([7, 2, 1, ..., 4, 5, 6])"
      ]
     },
     "execution_count": 199,
     "metadata": {},
     "output_type": "execute_result"
    }
   ],
   "source": [
    "y_pred = np.argmax(y_pred, axis=1)\n",
    "y_pred"
   ]
  },
  {
   "cell_type": "code",
   "execution_count": 200,
   "metadata": {},
   "outputs": [
    {
     "data": {
      "text/plain": [
       "array([7, 2, 1, ..., 4, 5, 6], dtype=uint8)"
      ]
     },
     "execution_count": 200,
     "metadata": {},
     "output_type": "execute_result"
    }
   ],
   "source": [
    "y_test"
   ]
  },
  {
   "cell_type": "code",
   "execution_count": 201,
   "metadata": {},
   "outputs": [
    {
     "name": "stdout",
     "output_type": "stream",
     "text": [
      "0.9803\n"
     ]
    }
   ],
   "source": [
    "accuracy = accuracy_score(y_test, y_pred)\n",
    "print(accuracy)"
   ]
  },
  {
   "cell_type": "code",
   "execution_count": null,
   "metadata": {},
   "outputs": [],
   "source": []
  }
 ],
 "metadata": {
  "kernelspec": {
   "display_name": "Python 3",
   "language": "python",
   "name": "python3"
  },
  "language_info": {
   "codemirror_mode": {
    "name": "ipython",
    "version": 3
   },
   "file_extension": ".py",
   "mimetype": "text/x-python",
   "name": "python",
   "nbconvert_exporter": "python",
   "pygments_lexer": "ipython3",
   "version": "3.5.6"
  }
 },
 "nbformat": 4,
 "nbformat_minor": 2
}
